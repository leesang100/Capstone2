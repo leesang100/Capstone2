{
  "nbformat": 4,
  "nbformat_minor": 0,
  "metadata": {
    "colab": {
      "name": "capstone_final.ipynb",
      "provenance": []
    },
    "kernelspec": {
      "display_name": "Python 3",
      "language": "python",
      "name": "python3"
    },
    "language_info": {
      "codemirror_mode": {
        "name": "ipython",
        "version": 3
      },
      "file_extension": ".py",
      "mimetype": "text/x-python",
      "name": "python",
      "nbconvert_exporter": "python",
      "pygments_lexer": "ipython3",
      "version": "3.6.9"
    }
  },
  "cells": [
    {
      "cell_type": "markdown",
      "metadata": {
        "id": "y5xcA5AuDP7J"
      },
      "source": [
        "데이터 불러오기\n",
        "---"
      ]
    },
    {
      "cell_type": "code",
      "metadata": {
        "id": "jwWjDjp5Y0f8"
      },
      "source": [
        "from google.colab import drive\n",
        "drive.mount('/content/drive')"
      ],
      "execution_count": null,
      "outputs": []
    },
    {
      "cell_type": "markdown",
      "metadata": {
        "id": "D7ZkhN4kaH5M"
      },
      "source": [
        "데이터 분할"
      ]
    },
    {
      "cell_type": "code",
      "metadata": {
        "id": "qeK-eYZYRG48"
      },
      "source": [
        "import os\n",
        "data_path='/content/drive/MyDrive/dataset/'\n",
        "image_file_list=os.listdir(data_path+'images')\n",
        "mask_file_list=os.listdir(data_path+'masks')\n",
        "\n",
        "from sklearn.model_selection import train_test_split\n",
        "X_train,X_test,Y_train,Y_test=train_test_split(image_file_list,mask_file_list,test_size=0.2,shuffle=False,random_state=1004)\n",
        "X_train,X_val,Y_train,Y_val=train_test_split(X_train,Y_train,test_size=0.2,shuffle=False,random_state=1004)"
      ],
      "execution_count": 3,
      "outputs": []
    },
    {
      "cell_type": "markdown",
      "metadata": {
        "id": "T7EPGPo_Z9P8"
      },
      "source": [
        "폴더 생성 함수"
      ]
    },
    {
      "cell_type": "code",
      "metadata": {
        "id": "_IIoPDLhRJ-z"
      },
      "source": [
        "def createFolder(directory):\n",
        "    try:\n",
        "        if not os.path.exists(directory):\n",
        "            os.makedirs(directory)\n",
        "    except OSError:\n",
        "        print ('Error: Creating directory. ' +  directory)\n",
        "\n",
        "createFolder(data_path+'Original_Train')\n",
        "createFolder(data_path+'Original_Test')\n",
        "createFolder(data_path+'Original_val')\n",
        "createFolder(data_path+'Mask_Train')\n",
        "createFolder(data_path+'Mask_Test')\n",
        "createFolder(data_path+'Mask_val')"
      ],
      "execution_count": 7,
      "outputs": []
    },
    {
      "cell_type": "markdown",
      "metadata": {
        "id": "If9e_eglaLir"
      },
      "source": [
        "생성된 각 폴더에 데이터 복사하기"
      ]
    },
    {
      "cell_type": "code",
      "metadata": {
        "id": "Yyi57wOHQ1cI"
      },
      "source": [
        "import shutil\n",
        "\n",
        "src=data_path+'images/'\n",
        "dir=data_path+'Original_Train/'\n",
        "for i in range(len(X_train)):\n",
        "    shutil.copy(src+X_train[i],dir+X_train[i])\n",
        "\n",
        "src=data_path+'masks/'\n",
        "dir=data_path+'Mask_Train/'\n",
        "for i in range(len(Y_train)):\n",
        "    shutil.copy(src+Y_train[i],dir+Y_train[i])\n",
        "\n",
        "src=data_path+'images/'\n",
        "dir=data_path+'Original_val/'\n",
        "for i in range(len(X_val)):\n",
        "    shutil.copy(src+X_val[i],dir+X_val[i])\n",
        "    \n",
        "src=data_path+'masks/'\n",
        "dir=data_path+'Mask_val/'\n",
        "for i in range(len(Y_val)):\n",
        "    shutil.copy(src+Y_val[i],dir+Y_val[i])\n",
        "\n",
        "src=data_path+'images/'\n",
        "dir=data_path+'Original_Test/'\n",
        "for i in range(len(X_test)):\n",
        "    shutil.copy(src+X_test[i],dir+X_test[i])\n",
        "\n",
        "src=data_path+'masks/'\n",
        "dir=data_path+'Mask_Test/'\n",
        "for i in range(len(Y_test)):\n",
        "    shutil.copy(src+Y_test[i],dir+Y_test[i])"
      ],
      "execution_count": 8,
      "outputs": []
    },
    {
      "cell_type": "markdown",
      "metadata": {
        "id": "7iBQLCkPTv7w"
      },
      "source": [
        "generator 단위로 만들기"
      ]
    },
    {
      "cell_type": "code",
      "metadata": {
        "id": "0AgyCQFyGNDs"
      },
      "source": [
        "from keras.preprocessing.image import ImageDataGenerator\n",
        "# we create two instances with the same arguments\n",
        "\n",
        "data_gen_args = dict(rotation_range=0.2,\n",
        "                    width_shift_range=0.05,\n",
        "                    height_shift_range=0.05,\n",
        "                    shear_range=0.05,\n",
        "                    zoom_range=0.05,\n",
        "                    horizontal_flip=True,\n",
        "                    fill_mode='nearest',\n",
        "                    rescale=1./255)\n",
        "\n",
        "mask_gen_args = dict(rotation_range=0.2,\n",
        "                    width_shift_range=0.05,\n",
        "                    height_shift_range=0.05,\n",
        "                    shear_range=0.05,\n",
        "                    zoom_range=0.05,\n",
        "                    horizontal_flip=True,\n",
        "                    fill_mode='nearest')\n",
        "\n",
        "image_datagen = ImageDataGenerator(**data_gen_args)\n",
        "mask_datagen  = ImageDataGenerator(**mask_gen_args) \n",
        "\n",
        "# Provide the same seed and keyword arguments to the fit and flow methods\n",
        "#image_datagen.fit(images, augment=True, seed=seed)\n",
        "#mask_datagen.fit(masks, augment=True, seed=seed)"
      ],
      "execution_count": 4,
      "outputs": []
    },
    {
      "cell_type": "markdown",
      "metadata": {
        "id": "iM3Z9N66XIXb"
      },
      "source": [
        "**flow_from_directory**   \n",
        "디렉토리에의 경로를 전달받아 증강된 데이터의 배치를 생성"
      ]
    },
    {
      "cell_type": "code",
      "metadata": {
        "id": "DrcZpDb5Lf9r",
        "colab": {
          "base_uri": "https://localhost:8080/"
        },
        "outputId": "3d383af1-d590-402c-c721-26d8a5856d3b"
      },
      "source": [
        "###train\n",
        "image_generator = image_datagen.flow_from_directory(\n",
        "    data_path,\n",
        "    class_mode=None,\n",
        "    classes=['Original_Train'],\n",
        "    seed=1,\n",
        "    batch_size=4,\n",
        "    target_size=(256,256))\n",
        "\n",
        "mask_generator = mask_datagen.flow_from_directory(\n",
        "    data_path,\n",
        "    classes=['Mask_Train'],\n",
        "    class_mode=None,\n",
        "    seed=1,\n",
        "    color_mode='rgb',\n",
        "    batch_size=4,\n",
        "    target_size=(256,256))\n",
        "\n",
        "# combine generators into one which yields image and masks\n",
        "train_generator = zip(image_generator, mask_generator)\n",
        "\n",
        "###validation\n",
        "val_image_generator = image_datagen.flow_from_directory(\n",
        "    data_path,\n",
        "    class_mode=None,\n",
        "    classes=['Original_val'],\n",
        "    seed=1,\n",
        "    batch_size=4,\n",
        "    target_size=(256,256))\n",
        "\n",
        "val_mask_generator = mask_datagen.flow_from_directory(\n",
        "    data_path,\n",
        "    classes=['Mask_val'],\n",
        "    class_mode=None,\n",
        "    seed=1,\n",
        "    batch_size=4,\n",
        "    color_mode='rgb',\n",
        "    target_size=(256,256))\n",
        "\n",
        "val_generator = zip(val_image_generator, val_mask_generator)\n",
        "\n",
        "###test\n",
        "test_image_generator=image_datagen.flow_from_directory(\n",
        "    data_path,\n",
        "    class_mode=None,\n",
        "    classes=['Original_Test'],\n",
        "    seed=1,\n",
        "    batch_size=4,\n",
        "    color_mode='rgb',\n",
        "    target_size=(256,256))\n",
        "\n",
        "test_mask_generator=mask_datagen.flow_from_directory(\n",
        "    data_path,\n",
        "    class_mode=None,\n",
        "    classes=['Mask_Test'],\n",
        "    seed=1,\n",
        "    batch_size=4,\n",
        "    color_mode='rgb',\n",
        "    target_size=(256,256))\n",
        "\n",
        "test_generator=zip(test_image_generator,test_mask_generator)"
      ],
      "execution_count": 9,
      "outputs": [
        {
          "output_type": "stream",
          "text": [
            "Found 448 images belonging to 1 classes.\n",
            "Found 448 images belonging to 1 classes.\n",
            "Found 112 images belonging to 1 classes.\n",
            "Found 112 images belonging to 1 classes.\n",
            "Found 141 images belonging to 1 classes.\n",
            "Found 141 images belonging to 1 classes.\n"
          ],
          "name": "stdout"
        }
      ]
    },
    {
      "cell_type": "markdown",
      "metadata": {
        "id": "sPO3hh80TmbG"
      },
      "source": [
        "colormap"
      ]
    },
    {
      "cell_type": "code",
      "metadata": {
        "id": "6IKUPANxDM2D",
        "colab": {
          "base_uri": "https://localhost:8080/",
          "height": 1000
        },
        "outputId": "b82e3a17-825b-4d42-8f12-d746b0e189ca"
      },
      "source": [
        "import pandas as pd\n",
        "classes = pd.read_csv(data_path+'class_dict.csv', index_col =0)\n",
        "classes"
      ],
      "execution_count": 12,
      "outputs": [
        {
          "output_type": "execute_result",
          "data": {
            "text/html": [
              "<div>\n",
              "<style scoped>\n",
              "    .dataframe tbody tr th:only-of-type {\n",
              "        vertical-align: middle;\n",
              "    }\n",
              "\n",
              "    .dataframe tbody tr th {\n",
              "        vertical-align: top;\n",
              "    }\n",
              "\n",
              "    .dataframe thead th {\n",
              "        text-align: right;\n",
              "    }\n",
              "</style>\n",
              "<table border=\"1\" class=\"dataframe\">\n",
              "  <thead>\n",
              "    <tr style=\"text-align: right;\">\n",
              "      <th></th>\n",
              "      <th>r</th>\n",
              "      <th>g</th>\n",
              "      <th>b</th>\n",
              "    </tr>\n",
              "    <tr>\n",
              "      <th>name</th>\n",
              "      <th></th>\n",
              "      <th></th>\n",
              "      <th></th>\n",
              "    </tr>\n",
              "  </thead>\n",
              "  <tbody>\n",
              "    <tr>\n",
              "      <th>Animal</th>\n",
              "      <td>64</td>\n",
              "      <td>128</td>\n",
              "      <td>64</td>\n",
              "    </tr>\n",
              "    <tr>\n",
              "      <th>Archway</th>\n",
              "      <td>192</td>\n",
              "      <td>0</td>\n",
              "      <td>128</td>\n",
              "    </tr>\n",
              "    <tr>\n",
              "      <th>Bicyclist</th>\n",
              "      <td>0</td>\n",
              "      <td>128</td>\n",
              "      <td>192</td>\n",
              "    </tr>\n",
              "    <tr>\n",
              "      <th>Bridge</th>\n",
              "      <td>0</td>\n",
              "      <td>128</td>\n",
              "      <td>64</td>\n",
              "    </tr>\n",
              "    <tr>\n",
              "      <th>Building</th>\n",
              "      <td>128</td>\n",
              "      <td>0</td>\n",
              "      <td>0</td>\n",
              "    </tr>\n",
              "    <tr>\n",
              "      <th>Car</th>\n",
              "      <td>64</td>\n",
              "      <td>0</td>\n",
              "      <td>128</td>\n",
              "    </tr>\n",
              "    <tr>\n",
              "      <th>CartLuggagePram</th>\n",
              "      <td>64</td>\n",
              "      <td>0</td>\n",
              "      <td>192</td>\n",
              "    </tr>\n",
              "    <tr>\n",
              "      <th>Child</th>\n",
              "      <td>192</td>\n",
              "      <td>128</td>\n",
              "      <td>64</td>\n",
              "    </tr>\n",
              "    <tr>\n",
              "      <th>Column_Pole</th>\n",
              "      <td>192</td>\n",
              "      <td>192</td>\n",
              "      <td>128</td>\n",
              "    </tr>\n",
              "    <tr>\n",
              "      <th>Fence</th>\n",
              "      <td>64</td>\n",
              "      <td>64</td>\n",
              "      <td>128</td>\n",
              "    </tr>\n",
              "    <tr>\n",
              "      <th>LaneMkgsDriv</th>\n",
              "      <td>128</td>\n",
              "      <td>0</td>\n",
              "      <td>192</td>\n",
              "    </tr>\n",
              "    <tr>\n",
              "      <th>LaneMkgsNonDriv</th>\n",
              "      <td>192</td>\n",
              "      <td>0</td>\n",
              "      <td>64</td>\n",
              "    </tr>\n",
              "    <tr>\n",
              "      <th>Misc_Text</th>\n",
              "      <td>128</td>\n",
              "      <td>128</td>\n",
              "      <td>64</td>\n",
              "    </tr>\n",
              "    <tr>\n",
              "      <th>MotorcycleScooter</th>\n",
              "      <td>192</td>\n",
              "      <td>0</td>\n",
              "      <td>192</td>\n",
              "    </tr>\n",
              "    <tr>\n",
              "      <th>OtherMoving</th>\n",
              "      <td>128</td>\n",
              "      <td>64</td>\n",
              "      <td>64</td>\n",
              "    </tr>\n",
              "    <tr>\n",
              "      <th>ParkingBlock</th>\n",
              "      <td>64</td>\n",
              "      <td>192</td>\n",
              "      <td>128</td>\n",
              "    </tr>\n",
              "    <tr>\n",
              "      <th>Pedestrian</th>\n",
              "      <td>64</td>\n",
              "      <td>64</td>\n",
              "      <td>0</td>\n",
              "    </tr>\n",
              "    <tr>\n",
              "      <th>Road</th>\n",
              "      <td>128</td>\n",
              "      <td>64</td>\n",
              "      <td>128</td>\n",
              "    </tr>\n",
              "    <tr>\n",
              "      <th>RoadShoulder</th>\n",
              "      <td>128</td>\n",
              "      <td>128</td>\n",
              "      <td>192</td>\n",
              "    </tr>\n",
              "    <tr>\n",
              "      <th>Sidewalk</th>\n",
              "      <td>0</td>\n",
              "      <td>0</td>\n",
              "      <td>192</td>\n",
              "    </tr>\n",
              "    <tr>\n",
              "      <th>SignSymbol</th>\n",
              "      <td>192</td>\n",
              "      <td>128</td>\n",
              "      <td>128</td>\n",
              "    </tr>\n",
              "    <tr>\n",
              "      <th>Sky</th>\n",
              "      <td>128</td>\n",
              "      <td>128</td>\n",
              "      <td>128</td>\n",
              "    </tr>\n",
              "    <tr>\n",
              "      <th>SUVPickupTruck</th>\n",
              "      <td>64</td>\n",
              "      <td>128</td>\n",
              "      <td>192</td>\n",
              "    </tr>\n",
              "    <tr>\n",
              "      <th>TrafficCone</th>\n",
              "      <td>0</td>\n",
              "      <td>0</td>\n",
              "      <td>64</td>\n",
              "    </tr>\n",
              "    <tr>\n",
              "      <th>TrafficLight</th>\n",
              "      <td>0</td>\n",
              "      <td>64</td>\n",
              "      <td>64</td>\n",
              "    </tr>\n",
              "    <tr>\n",
              "      <th>Train</th>\n",
              "      <td>192</td>\n",
              "      <td>64</td>\n",
              "      <td>128</td>\n",
              "    </tr>\n",
              "    <tr>\n",
              "      <th>Tree</th>\n",
              "      <td>128</td>\n",
              "      <td>128</td>\n",
              "      <td>0</td>\n",
              "    </tr>\n",
              "    <tr>\n",
              "      <th>Truck_Bus</th>\n",
              "      <td>192</td>\n",
              "      <td>128</td>\n",
              "      <td>192</td>\n",
              "    </tr>\n",
              "    <tr>\n",
              "      <th>Tunnel</th>\n",
              "      <td>64</td>\n",
              "      <td>0</td>\n",
              "      <td>64</td>\n",
              "    </tr>\n",
              "    <tr>\n",
              "      <th>VegetationMisc</th>\n",
              "      <td>192</td>\n",
              "      <td>192</td>\n",
              "      <td>0</td>\n",
              "    </tr>\n",
              "    <tr>\n",
              "      <th>Void</th>\n",
              "      <td>0</td>\n",
              "      <td>0</td>\n",
              "      <td>0</td>\n",
              "    </tr>\n",
              "    <tr>\n",
              "      <th>Wall</th>\n",
              "      <td>64</td>\n",
              "      <td>192</td>\n",
              "      <td>0</td>\n",
              "    </tr>\n",
              "  </tbody>\n",
              "</table>\n",
              "</div>"
            ],
            "text/plain": [
              "                     r    g    b\n",
              "name                            \n",
              "Animal              64  128   64\n",
              "Archway            192    0  128\n",
              "Bicyclist            0  128  192\n",
              "Bridge               0  128   64\n",
              "Building           128    0    0\n",
              "Car                 64    0  128\n",
              "CartLuggagePram     64    0  192\n",
              "Child              192  128   64\n",
              "Column_Pole        192  192  128\n",
              "Fence               64   64  128\n",
              "LaneMkgsDriv       128    0  192\n",
              "LaneMkgsNonDriv    192    0   64\n",
              "Misc_Text          128  128   64\n",
              "MotorcycleScooter  192    0  192\n",
              "OtherMoving        128   64   64\n",
              "ParkingBlock        64  192  128\n",
              "Pedestrian          64   64    0\n",
              "Road               128   64  128\n",
              "RoadShoulder       128  128  192\n",
              "Sidewalk             0    0  192\n",
              "SignSymbol         192  128  128\n",
              "Sky                128  128  128\n",
              "SUVPickupTruck      64  128  192\n",
              "TrafficCone          0    0   64\n",
              "TrafficLight         0   64   64\n",
              "Train              192   64  128\n",
              "Tree               128  128    0\n",
              "Truck_Bus          192  128  192\n",
              "Tunnel              64    0   64\n",
              "VegetationMisc     192  192    0\n",
              "Void                 0    0    0\n",
              "Wall                64  192    0"
            ]
          },
          "metadata": {
            "tags": []
          },
          "execution_count": 12
        }
      ]
    },
    {
      "cell_type": "code",
      "metadata": {
        "id": "41bj3Q4uDaat",
        "colab": {
          "base_uri": "https://localhost:8080/"
        },
        "outputId": "960bfbb8-b8c8-406e-8634-6f13d0dc646f"
      },
      "source": [
        "n_classes = len(classes)\n",
        "n_classes"
      ],
      "execution_count": 13,
      "outputs": [
        {
          "output_type": "execute_result",
          "data": {
            "text/plain": [
              "32"
            ]
          },
          "metadata": {
            "tags": []
          },
          "execution_count": 13
        }
      ]
    },
    {
      "cell_type": "markdown",
      "metadata": {
        "id": "TzoJTBT4D44W"
      },
      "source": [
        "UNET 모델 정의\n",
        "---\n",
        "* Unet은 2015년에 출시한  Biomedical Image segmentation을 위한 convolutional network로 출시됨  \n",
        "* End-to-End 로 Segmentation하는 심플하고 효과적인 방법  \n",
        "* U-Net은 Fully Convolution Network(FCN)를 기반으로 하여 구축하였으며, 적은 데이터를 가지고도 더욱 정확한 Segmentaion을 내기 위해 FCN 구조를 수정\n"
      ]
    },
    {
      "cell_type": "code",
      "metadata": {
        "id": "ETS8ICJAD6xn"
      },
      "source": [
        "from keras.models import *\n",
        "from keras.layers import *\n",
        "from keras.optimizers import *\n",
        "from keras.callbacks import ModelCheckpoint, LearningRateScheduler\n",
        "from keras import backend as keras\n",
        "\n",
        "def unet(n_classes, pretrained_weights = None,input_size = (256,256,3)):\n",
        "    inputs = Input(input_size)\n",
        "    conv1 = Conv2D(64, 3, activation = 'relu', padding = 'same', kernel_initializer = 'he_normal')(inputs)\n",
        "    conv1 = Conv2D(64, 3, activation = 'relu', padding = 'same', kernel_initializer = 'he_normal')(conv1)\n",
        "    pool1 = MaxPooling2D(pool_size=(2, 2))(conv1)\n",
        "    conv2 = Conv2D(128, 3, activation = 'relu', padding = 'same', kernel_initializer = 'he_normal')(pool1)\n",
        "    conv2 = Conv2D(128, 3, activation = 'relu', padding = 'same', kernel_initializer = 'he_normal')(conv2)\n",
        "    pool2 = MaxPooling2D(pool_size=(2, 2))(conv2)\n",
        "    conv3 = Conv2D(256, 3, activation = 'relu', padding = 'same', kernel_initializer = 'he_normal')(pool2)\n",
        "    conv3 = Conv2D(256, 3, activation = 'relu', padding = 'same', kernel_initializer = 'he_normal')(conv3)\n",
        "    pool3 = MaxPooling2D(pool_size=(2, 2))(conv3)\n",
        "    conv4 = Conv2D(512, 3, activation = 'relu', padding = 'same', kernel_initializer = 'he_normal')(pool3)\n",
        "    conv4 = Conv2D(512, 3, activation = 'relu', padding = 'same', kernel_initializer = 'he_normal')(conv4)\n",
        "    drop4 = Dropout(0.5)(conv4)\n",
        "    pool4 = MaxPooling2D(pool_size=(2, 2))(drop4)\n",
        "\n",
        "    conv5 = Conv2D(1024, 3, activation = 'relu', padding = 'same', kernel_initializer = 'he_normal')(pool4)\n",
        "    conv5 = Conv2D(1024, 3, activation = 'relu', padding = 'same', kernel_initializer = 'he_normal')(conv5)\n",
        "    drop5 = Dropout(0.5)(conv5)\n",
        "\n",
        "    up6 = Conv2D(512, 2, activation = 'relu', padding = 'same', kernel_initializer = 'he_normal')(UpSampling2D(size = (2,2))(drop5))\n",
        "    merge6 = concatenate([drop4,up6], axis = 3)\n",
        "    conv6 = Conv2D(512, 3, activation = 'relu', padding = 'same', kernel_initializer = 'he_normal')(merge6)\n",
        "    conv6 = Conv2D(512, 3, activation = 'relu', padding = 'same', kernel_initializer = 'he_normal')(conv6)\n",
        "\n",
        "    up7 = Conv2D(256, 2, activation = 'relu', padding = 'same', kernel_initializer = 'he_normal')(UpSampling2D(size = (2,2))(conv6))\n",
        "    merge7 = concatenate([conv3,up7], axis = 3)\n",
        "    conv7 = Conv2D(256, 3, activation = 'relu', padding = 'same', kernel_initializer = 'he_normal')(merge7)\n",
        "    conv7 = Conv2D(256, 3, activation = 'relu', padding = 'same', kernel_initializer = 'he_normal')(conv7)\n",
        "\n",
        "    up8 = Conv2D(128, 2, activation = 'relu', padding = 'same', kernel_initializer = 'he_normal')(UpSampling2D(size = (2,2))(conv7))\n",
        "    merge8 = concatenate([conv2,up8], axis = 3)\n",
        "    conv8 = Conv2D(128, 3, activation = 'relu', padding = 'same', kernel_initializer = 'he_normal')(merge8)\n",
        "    conv8 = Conv2D(128, 3, activation = 'relu', padding = 'same', kernel_initializer = 'he_normal')(conv8)\n",
        "\n",
        "    up9 = Conv2D(64, 2, activation = 'relu', padding = 'same', kernel_initializer = 'he_normal')(UpSampling2D(size = (2,2))(conv8))\n",
        "    merge9 = concatenate([conv1,up9], axis = 3)\n",
        "    conv9 = Conv2D(64, 3, activation = 'relu', padding = 'same', kernel_initializer = 'he_normal')(merge9)\n",
        "    conv9 = Conv2D(64, 3, activation = 'relu', padding = 'same', kernel_initializer = 'he_normal')(conv9)\n",
        "    #conv9 = Conv2D(2, 3, activation = 'relu', padding = 'same', kernel_initializer = 'he_normal')(conv9)\n",
        "    #conv10 = Conv2D(n_classes, (1,1), activation = 'softmax')(conv9)\n",
        "    conv10 = Conv2D(n_classes, (1,1), padding='same')(conv9)  \n",
        "\n",
        "    output_layer = conv10\n",
        "    output_layer = Activation('softmax')(output_layer)\n",
        "\n",
        "    model = Model( inputs,output_layer)\n",
        "    \n",
        "    #케라스의 MeanIOU를 평가지표로 사용\n",
        "    model.compile(optimizer = Adam(lr = 1e-4), loss = 'categorical_crossentropy', metrics = [tf.keras.metrics.MeanIoU(num_classes=32)])\n",
        "\n",
        "    if(pretrained_weights):\n",
        "        model.load_weights(pretrained_weights)\n",
        "\n",
        "    return model"
      ],
      "execution_count": null,
      "outputs": []
    },
    {
      "cell_type": "code",
      "metadata": {
        "id": "C4YtljOjD9e-"
      },
      "source": [
        "model = unet(n_classes)\n",
        "model.summary()"
      ],
      "execution_count": null,
      "outputs": []
    },
    {
      "cell_type": "markdown",
      "metadata": {
        "id": "KJYO5oh3GJ19"
      },
      "source": [
        "이미지를 숫자형으로 변경\n",
        "---"
      ]
    },
    {
      "cell_type": "code",
      "metadata": {
        "colab": {
          "base_uri": "https://localhost:8080/"
        },
        "id": "hY1sk-3iVqfQ",
        "outputId": "912e25c4-23cf-4f3a-d5d2-d9a39394dc5c"
      },
      "source": [
        "cls2rgb = {cl:list(classes.loc[cl, :]) for cl in classes.index}\n",
        "cls2rgb"
      ],
      "execution_count": 14,
      "outputs": [
        {
          "output_type": "execute_result",
          "data": {
            "text/plain": [
              "{'Animal': [64, 128, 64],\n",
              " 'Archway': [192, 0, 128],\n",
              " 'Bicyclist': [0, 128, 192],\n",
              " 'Bridge': [0, 128, 64],\n",
              " 'Building': [128, 0, 0],\n",
              " 'Car': [64, 0, 128],\n",
              " 'CartLuggagePram': [64, 0, 192],\n",
              " 'Child': [192, 128, 64],\n",
              " 'Column_Pole': [192, 192, 128],\n",
              " 'Fence': [64, 64, 128],\n",
              " 'LaneMkgsDriv': [128, 0, 192],\n",
              " 'LaneMkgsNonDriv': [192, 0, 64],\n",
              " 'Misc_Text': [128, 128, 64],\n",
              " 'MotorcycleScooter': [192, 0, 192],\n",
              " 'OtherMoving': [128, 64, 64],\n",
              " 'ParkingBlock': [64, 192, 128],\n",
              " 'Pedestrian': [64, 64, 0],\n",
              " 'Road': [128, 64, 128],\n",
              " 'RoadShoulder': [128, 128, 192],\n",
              " 'SUVPickupTruck': [64, 128, 192],\n",
              " 'Sidewalk': [0, 0, 192],\n",
              " 'SignSymbol': [192, 128, 128],\n",
              " 'Sky': [128, 128, 128],\n",
              " 'TrafficCone': [0, 0, 64],\n",
              " 'TrafficLight': [0, 64, 64],\n",
              " 'Train': [192, 64, 128],\n",
              " 'Tree': [128, 128, 0],\n",
              " 'Truck_Bus': [192, 128, 192],\n",
              " 'Tunnel': [64, 0, 64],\n",
              " 'VegetationMisc': [192, 192, 0],\n",
              " 'Void': [0, 0, 0],\n",
              " 'Wall': [64, 192, 0]}"
            ]
          },
          "metadata": {
            "tags": []
          },
          "execution_count": 14
        }
      ]
    },
    {
      "cell_type": "markdown",
      "metadata": {
        "id": "tEqKRduEVrzY"
      },
      "source": [
        "**adjust_mask(mask, flat)**\n",
        "\n",
        "이미지를 숫자배열로 변환하는 역할\n"
      ]
    },
    {
      "cell_type": "code",
      "metadata": {
        "id": "6_Nj_aoHDpnF"
      },
      "source": [
        "import numpy as np\n",
        "\n",
        "def adjust_mask(mask, flat=False): \n",
        "  \n",
        "    semantic_map = []\n",
        "    for colour in list(cls2rgb.values()):        \n",
        "        equality = np.equal(mask, colour) #256x256x3차원을 True/False로 채움\n",
        "        class_map = np.all(equality, axis = -1) #256x256가 전부 True이면(지정된 픽셀의 색상을 찾으면) True 반환\n",
        "        semantic_map.append(class_map) #True/False로 256x256 배열의 리스트 생성\n",
        "    semantic_map = np.stack(semantic_map, axis=-1)# 256x256 배열 x32개 클래스 -> 256x256x32차원으로 만듬\n",
        "    \n",
        "    if flat:\n",
        "        semantic_map = np.reshape(semantic_map, (-1,256*256)) #평면이 아니라면 (-1,256*256)의 2차원으로 변환\n",
        "\n",
        "    return np.float32(semantic_map)#T/F 배열을 숫자배열로 변환"
      ],
      "execution_count": 15,
      "outputs": []
    },
    {
      "cell_type": "markdown",
      "metadata": {
        "id": "dAgV-YEwWART"
      },
      "source": [
        "**generator_fn()**  \n",
        "generator 내의 모든 값에 adjust_mask함수 적용"
      ]
    },
    {
      "cell_type": "code",
      "metadata": {
        "id": "YUUuJV6oS4Su"
      },
      "source": [
        "def train_generator_fn():\n",
        "    for (img,mask) in train_generator:\n",
        "        new_mask = adjust_mask(mask)\n",
        "        yield (img,new_mask)\n",
        "\n",
        "def val_generator_fn():\n",
        "    for (img,mask) in val_generator:\n",
        "        new_mask = adjust_mask(mask)\n",
        "        yield (img,new_mask)\n",
        "\n",
        "def test_generator_fn():  \n",
        "    for (img,mask) in test_generator:\n",
        "        new_mask=adjust_mask(mask)\n",
        "        yield (img,new_mask)"
      ],
      "execution_count": 16,
      "outputs": []
    },
    {
      "cell_type": "markdown",
      "metadata": {
        "id": "QCPp6sy9Gtsl"
      },
      "source": [
        "모델 실행 및 시각화\n",
        "---"
      ]
    },
    {
      "cell_type": "markdown",
      "metadata": {
        "id": "ziQAfuJUIcXU"
      },
      "source": [
        "학습, 검증, 평가 과정  진행"
      ]
    },
    {
      "cell_type": "code",
      "metadata": {
        "id": "Zx_YWOX2G7R1"
      },
      "source": [
        "model_checkpoint = ModelCheckpoint('unet_camvid.hdf5', monitor='val_loss',verbose=1, save_best_only=True)\n",
        "\n",
        "model = unet(n_classes=32)\n",
        "model.fit_generator(generator=train_generator_fn(),\n",
        "                    validation_data=val_generator_fn(),\n",
        "                    validation_steps=100,               \n",
        "                    steps_per_epoch=1000,\n",
        "                    epochs=10,\n",
        "                    callbacks=[model_checkpoint])"
      ],
      "execution_count": null,
      "outputs": []
    },
    {
      "cell_type": "code",
      "metadata": {
        "id": "G_ALZO3GYJcM"
      },
      "source": [
        "scores=model.evaluate_generator(test_generator_fn(),steps=5)\n",
        "scores[1]"
      ],
      "execution_count": null,
      "outputs": []
    },
    {
      "cell_type": "markdown",
      "metadata": {
        "id": "I7nTzPhsHYkV"
      },
      "source": [
        "시각화"
      ]
    },
    {
      "cell_type": "code",
      "metadata": {
        "id": "Jn2doq3-Qbco"
      },
      "source": [
        "# img (256,256,3)\n",
        "# gt_mask: gt_mode=sparse--> (256,256) or ohe --> (256,256,32)\n",
        "def test_visualize_seg(img, gt_mask, shape='normal'):\n",
        "    plt.figure(1)\n",
        "\n",
        "      # Img\n",
        "    plt.subplot(311)\n",
        "    plt.imshow(img)\n",
        "\n",
        "      # Predict\n",
        "    pred_mask = model.predict(np.expand_dims(img, 0))\n",
        "    pred_mask = np.argmax(pred_mask, axis=-1)\n",
        "    pred_mask = pred_mask[0]\n",
        "    if shape=='flat':\n",
        "        pred_mask = np.reshape(pred_mask, (256,256)) # Reshape only if you use the flat model. O.w. you dont need\n",
        "\n",
        "    rgb_mask = np.apply_along_axis(map_class_to_rgb, -1, np.expand_dims(pred_mask, -1))\n",
        "\n",
        "    # Prediction\n",
        "    plt.subplot(312)\n",
        "    plt.imshow(rgb_mask)\n",
        "\n",
        "    plt.subplot(313)\n",
        "    plt.imshow((gt_mask).astype(np.float64))"
      ],
      "execution_count": null,
      "outputs": []
    },
    {
      "cell_type": "code",
      "metadata": {
        "id": "xzy_48dqHans"
      },
      "source": [
        "img = next(test_image_generator)[0]\n",
        "gt_img = next(test_mask_generator)[0]\n",
        "test_visualize_seg(img, gt_img)"
      ],
      "execution_count": null,
      "outputs": []
    }
  ]
}