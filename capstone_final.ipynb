{
  "nbformat": 4,
  "nbformat_minor": 0,
  "metadata": {
    "colab": {
      "name": "capstone_final.ipynb",
      "provenance": [],
      "collapsed_sections": []
    },
    "kernelspec": {
      "display_name": "Python 3",
      "language": "python",
      "name": "python3"
    },
    "language_info": {
      "codemirror_mode": {
        "name": "ipython",
        "version": 3
      },
      "file_extension": ".py",
      "mimetype": "text/x-python",
      "name": "python",
      "nbconvert_exporter": "python",
      "pygments_lexer": "ipython3",
      "version": "3.6.9"
    }
  },
  "cells": [
    {
      "cell_type": "markdown",
      "metadata": {
        "id": "y5xcA5AuDP7J"
      },
      "source": [
        "데이터 불러오기\n",
        "---"
      ]
    },
    {
      "cell_type": "markdown",
      "metadata": {
        "id": "D49h0Fh_b6s2"
      },
      "source": [
        "경로 설정"
      ]
    },
    {
      "cell_type": "code",
      "metadata": {
        "id": "jwWjDjp5Y0f8",
        "colab": {
          "base_uri": "https://localhost:8080/"
        },
        "outputId": "3c655ec0-0122-4392-8200-cf4ab0893709"
      },
      "source": [
        "from google.colab import drive #코랩에서 구글 드라이브와 연동하기\n",
        "drive.mount('/content/drive')"
      ],
      "execution_count": null,
      "outputs": [
        {
          "output_type": "stream",
          "text": [
            "Mounted at /content/drive\n"
          ],
          "name": "stdout"
        }
      ]
    },
    {
      "cell_type": "code",
      "metadata": {
        "id": "UlrnKPTT8TtS"
      },
      "source": [
        "import os\n",
        "data_path='/content/drive/MyDrive/dataset/'\n",
        "image_file_list=os.listdir(data_path+'images')        # 이미지 파일 디렉토리\n",
        "mask_file_list=os.listdir(data_path+'masks')          # 정답 파일 디렉토리 "
      ],
      "execution_count": null,
      "outputs": []
    },
    {
      "cell_type": "markdown",
      "metadata": {
        "id": "D7ZkhN4kaH5M"
      },
      "source": [
        "**데이터 분할**  \n",
        "학습:검증:테스트 = 6:2:2\n"
      ]
    },
    {
      "cell_type": "code",
      "metadata": {
        "id": "qeK-eYZYRG48"
      },
      "source": [
        "from sklearn.model_selection import train_test_split\n",
        "X_train,X_test,Y_train,Y_test=train_test_split(image_file_list,mask_file_list,test_size=0.2,shuffle=False,random_state=1004)\n",
        "X_train,X_val,Y_train,Y_val=train_test_split(X_train,Y_train,test_size=0.2,shuffle=False,random_state=1004)"
      ],
      "execution_count": null,
      "outputs": []
    },
    {
      "cell_type": "markdown",
      "metadata": {
        "id": "T7EPGPo_Z9P8"
      },
      "source": [
        "폴더 생성 함수\n",
        "\n",
        "학습데이터, 검증데이터, 테스트데이터 나누기."
      ]
    },
    {
      "cell_type": "code",
      "metadata": {
        "id": "_IIoPDLhRJ-z"
      },
      "source": [
        "def createFolder(directory):\n",
        "    try:\n",
        "        if not os.path.exists(directory):                                             # 디렉토리 만들기. OSError(인수에러)발생시 폴더 만들라는 문구 띄우기.\n",
        "            os.makedirs(directory)\n",
        "    except OSError:\n",
        "        print ('Error: Creating directory. ' +  directory)\n",
        "\n",
        "createFolder(data_path+'Original_Train')\n",
        "createFolder(data_path+'Original_Test')\n",
        "createFolder(data_path+'Original_val')\n",
        "createFolder(data_path+'Mask_Train')\n",
        "createFolder(data_path+'Mask_Test')\n",
        "createFolder(data_path+'Mask_val')"
      ],
      "execution_count": null,
      "outputs": []
    },
    {
      "cell_type": "markdown",
      "metadata": {
        "id": "If9e_eglaLir"
      },
      "source": [
        "**생성된 각 폴더에 데이터 복사하기**\n",
        "\n",
        "\n",
        " images 폴더에 있는걸 Original_Train폴더로 복사  (X_train)\n",
        "\n",
        " masks 폴더에 있는걸 Mask_Train폴더로 복사       (Y_train)\n",
        "\n",
        " images 폴더에 있는걸 Original_val폴더로 복사    (X_val)\n",
        "\n",
        " masks 폴더에 있는걸 Mask_val폴더로 복사         (Y_val)\n",
        "\n",
        " images 폴더에 있는걸 Original_Test폴더로 복사   (X_test)\n",
        " \n",
        " masks 폴더에 있는걸 Mask_Test폴더로 복사        (Y_test)\n",
        "\n"
      ]
    },
    {
      "cell_type": "code",
      "metadata": {
        "id": "Yyi57wOHQ1cI"
      },
      "source": [
        "import shutil               # 파일 복사, 이동 등 모듈\n",
        "\n",
        "src=data_path+'images/'                                               \n",
        "dir=data_path+'Original_Train/'\n",
        "for i in range(len(X_train)):\n",
        "    shutil.copy(src+X_train[i],dir+X_train[i])\n",
        "\n",
        "src=data_path+'masks/'                                                \n",
        "dir=data_path+'Mask_Train/'\n",
        "for i in range(len(Y_train)):\n",
        "    shutil.copy(src+Y_train[i],dir+Y_train[i])\n",
        "\n",
        "src=data_path+'images/'\n",
        "dir=data_path+'Original_val/'\n",
        "for i in range(len(X_val)):\n",
        "    shutil.copy(src+X_val[i],dir+X_val[i])\n",
        "    \n",
        "src=data_path+'masks/'\n",
        "dir=data_path+'Mask_val/'\n",
        "for i in range(len(Y_val)):\n",
        "    shutil.copy(src+Y_val[i],dir+Y_val[i])\n",
        "\n",
        "src=data_path+'images/'\n",
        "dir=data_path+'Original_Test/'\n",
        "for i in range(len(X_test)):\n",
        "    shutil.copy(src+X_test[i],dir+X_test[i])\n",
        "\n",
        "src=data_path+'masks/'\n",
        "dir=data_path+'Mask_Test/'\n",
        "for i in range(len(Y_test)):\n",
        "    shutil.copy(src+Y_test[i],dir+Y_test[i])"
      ],
      "execution_count": null,
      "outputs": []
    },
    {
      "cell_type": "markdown",
      "metadata": {
        "id": "7iBQLCkPTv7w"
      },
      "source": [
        "generator 단위로 만들기"
      ]
    },
    {
      "cell_type": "code",
      "metadata": {
        "id": "0AgyCQFyGNDs"
      },
      "source": [
        "from keras.preprocessing.image import ImageDataGenerator\n",
        "\n",
        "\n",
        "data_gen_args = dict(rotation_range=0.2,                               # 랜덤하게 회전할 각도의 범위\n",
        "                    width_shift_range=0.05,                            # 왼쪽 오른쪽으로 움직이기(원본 이미지에 대한 비율)\n",
        "                    height_shift_range=0.05,                           # 위아래로 움직이기(원본 이미지에 대한 비율)\n",
        "                    shear_range=0.05,                                  # shearing transformation 범위(회전하면서 늘어지는거..?)\n",
        "                    zoom_range=0.05,                                   # 랜덤 확대 범위\n",
        "                    horizontal_flip=True,                              # 수평 전환 설정(50%확률로 뒤집는다. 뒤집어도 자연스러운 케이스에 사용하면 좋다함)                      \n",
        "                    fill_mode='nearest',                               # 빈 공간을 채우는 방식\n",
        "                    rescale=1./255)                                    # https://laheepapa.tistory.com/70    픽셀값을 0 ~ 1 값으로 맞춰주기 위해 rescale = 1. / 255로 설정\n",
        "\n",
        "mask_gen_args = dict(rotation_range=0.2,                               ## 검증 및 테스트 이미지는 augmentation을 적용하지 않습니다. 모델 성능을 평가할 때에는 이미지 원본을 사용합니다. 라는데??\n",
        "                    width_shift_range=0.05,                             #https://keraskorea.github.io/posts/2018-10-24-little_data_powerful_model/\n",
        "                    height_shift_range=0.05,\n",
        "                    shear_range=0.05,\n",
        "                    zoom_range=0.05,\n",
        "                    horizontal_flip=True,\n",
        "                    fill_mode='nearest')\n",
        "\n",
        "image_datagen = ImageDataGenerator(**data_gen_args)                    # ImageDataGenerator : 기존의 데이터에 랜덤한 변화를 주어 데이터의 수를 증가시켜 학습하게 하는 것. 데이터 증폭. https://velog.io/@usrnamejm/Tensorflow-ImageDataGenerator\n",
        "mask_datagen  = ImageDataGenerator(**mask_gen_args) \n",
        "\n",
        "# Provide the same seed and keyword arguments to the fit and flow methods\n",
        "#image_datagen.fit(images, augment=True, seed=seed)\n",
        "#mask_datagen.fit(masks, augment=True, seed=seed)"
      ],
      "execution_count": null,
      "outputs": []
    },
    {
      "cell_type": "markdown",
      "metadata": {
        "id": "iM3Z9N66XIXb"
      },
      "source": [
        "**flow_from_directory**   \n",
        "디렉토리에의 경로를 전달받아 증강된 데이터의 배치를 생성\n",
        "\n",
        "ImageDataGenerator 클래스를 이용하여 객체를 생성한 뒤 flow_from_directory() 함수를 호출하여 제네레이터(generator)를 생성\n",
        "\n",
        "https://tykimos.tistory.com/13\n",
        "\n",
        "http://keras-ko.kr/api/preprocessing/image/"
      ]
    },
    {
      "cell_type": "code",
      "metadata": {
        "id": "DrcZpDb5Lf9r",
        "colab": {
          "base_uri": "https://localhost:8080/"
        },
        "outputId": "6bc36c45-a467-4137-b183-b51c28b279a7"
      },
      "source": [
        "data_path='/content/drive/MyDrive/dataset/'\n",
        "\n",
        "###train                                                                            # flow_from_directory 메서드는 디스크로부터 이미지를 불러오고, rescaling을 적용하고, 요구되는 면적에 맞게 이미지를 resize 합니다.\n",
        "image_generator = image_datagen.flow_from_directory(                                 #이렇게 폴더명에 맞춰서 이미지 저장을 하는 이유는 flow_from_directory는 이미지를 불러올 때 폴더명에 맞춰 자동으로 labelling을 해주기 때문입니다\n",
        "    data_path,                                                                    #이미지 경로\n",
        "    class_mode=None,                                                      # 라벨 반환되지 않음. binary, categorical, sparse\n",
        "    classes=['Original_Train'],                                                      #학습데이터 폴더.\n",
        "    seed=1,                                                                                 #랜덤시드\n",
        "    batch_size=4,                                                                      # 배치 크기, 한번에 처리를 해야할 데이터의 양을 설정\n",
        "    target_size=(256,256))                                                       # 패치 이미지 크기. 폴더에 있는 원본 이미지 크기가 다르더라도 target_size에 지정된 크기로 자동 조절 된다.  \n",
        "\n",
        "mask_generator = mask_datagen.flow_from_directory(\n",
        "    data_path,\n",
        "    classes=['Mask_Train'],\n",
        "    class_mode=None,\n",
        "    seed=1,\n",
        "    color_mode='rgb',  #one of \"grayscale\", \"rgb\", \"rgba\". Default: \"rgb\". Whether the images will be converted to have 1 or 3 color channels.\n",
        "    batch_size=4,\n",
        "    target_size=(256,256))\n",
        "\n",
        "# combine generators into one which yields image and masks\n",
        "train_generator = zip(image_generator, mask_generator)             #학습데이터랑, 정답데이터 하나로 zip\n",
        "\n",
        "###validation\n",
        "val_image_generator = image_datagen.flow_from_directory(\n",
        "    data_path,\n",
        "    class_mode=None,\n",
        "    classes=['Original_val'],\n",
        "    seed=1,\n",
        "    batch_size=4,\n",
        "    target_size=(256,256))\n",
        "\n",
        "val_mask_generator = mask_datagen.flow_from_directory(\n",
        "    data_path,\n",
        "    classes=['Mask_val'],\n",
        "    class_mode=None,\n",
        "    seed=1,\n",
        "    batch_size=4,\n",
        "    color_mode='rgb',\n",
        "    target_size=(256,256))\n",
        "\n",
        "val_generator = zip(val_image_generator, val_mask_generator)\n",
        "\n",
        "###test\n",
        "test_image_generator=image_datagen.flow_from_directory(\n",
        "    data_path,\n",
        "    class_mode=None,\n",
        "    classes=['Original_Test'],\n",
        "    seed=1,\n",
        "    batch_size=4,\n",
        "    color_mode='rgb',\n",
        "    target_size=(256,256))\n",
        "\n",
        "test_mask_generator=mask_datagen.flow_from_directory(\n",
        "    data_path,\n",
        "    class_mode=None,\n",
        "    classes=['Mask_Test'],\n",
        "    seed=1,\n",
        "    batch_size=4,\n",
        "    color_mode='rgb',\n",
        "    target_size=(256,256))\n",
        "\n",
        "test_generator=zip(test_image_generator,test_mask_generator)"
      ],
      "execution_count": null,
      "outputs": [
        {
          "output_type": "stream",
          "text": [
            "Found 448 images belonging to 1 classes.\n",
            "Found 448 images belonging to 1 classes.\n",
            "Found 112 images belonging to 1 classes.\n",
            "Found 112 images belonging to 1 classes.\n",
            "Found 141 images belonging to 1 classes.\n",
            "Found 141 images belonging to 1 classes.\n"
          ],
          "name": "stdout"
        }
      ]
    },
    {
      "cell_type": "markdown",
      "metadata": {
        "id": "sPO3hh80TmbG"
      },
      "source": [
        "colormap"
      ]
    },
    {
      "cell_type": "code",
      "metadata": {
        "id": "6IKUPANxDM2D",
        "colab": {
          "base_uri": "https://localhost:8080/",
          "height": 1000
        },
        "outputId": "4c66d514-c68b-4395-a529-aaeb503f1b01"
      },
      "source": [
        "import pandas as pd\n",
        "classes = pd.read_csv(data_path+'class_dict.csv', index_col =0)\n",
        "classes"
      ],
      "execution_count": null,
      "outputs": [
        {
          "output_type": "execute_result",
          "data": {
            "text/html": [
              "<div>\n",
              "<style scoped>\n",
              "    .dataframe tbody tr th:only-of-type {\n",
              "        vertical-align: middle;\n",
              "    }\n",
              "\n",
              "    .dataframe tbody tr th {\n",
              "        vertical-align: top;\n",
              "    }\n",
              "\n",
              "    .dataframe thead th {\n",
              "        text-align: right;\n",
              "    }\n",
              "</style>\n",
              "<table border=\"1\" class=\"dataframe\">\n",
              "  <thead>\n",
              "    <tr style=\"text-align: right;\">\n",
              "      <th></th>\n",
              "      <th>r</th>\n",
              "      <th>g</th>\n",
              "      <th>b</th>\n",
              "    </tr>\n",
              "    <tr>\n",
              "      <th>name</th>\n",
              "      <th></th>\n",
              "      <th></th>\n",
              "      <th></th>\n",
              "    </tr>\n",
              "  </thead>\n",
              "  <tbody>\n",
              "    <tr>\n",
              "      <th>Animal</th>\n",
              "      <td>64</td>\n",
              "      <td>128</td>\n",
              "      <td>64</td>\n",
              "    </tr>\n",
              "    <tr>\n",
              "      <th>Archway</th>\n",
              "      <td>192</td>\n",
              "      <td>0</td>\n",
              "      <td>128</td>\n",
              "    </tr>\n",
              "    <tr>\n",
              "      <th>Bicyclist</th>\n",
              "      <td>0</td>\n",
              "      <td>128</td>\n",
              "      <td>192</td>\n",
              "    </tr>\n",
              "    <tr>\n",
              "      <th>Bridge</th>\n",
              "      <td>0</td>\n",
              "      <td>128</td>\n",
              "      <td>64</td>\n",
              "    </tr>\n",
              "    <tr>\n",
              "      <th>Building</th>\n",
              "      <td>128</td>\n",
              "      <td>0</td>\n",
              "      <td>0</td>\n",
              "    </tr>\n",
              "    <tr>\n",
              "      <th>Car</th>\n",
              "      <td>64</td>\n",
              "      <td>0</td>\n",
              "      <td>128</td>\n",
              "    </tr>\n",
              "    <tr>\n",
              "      <th>CartLuggagePram</th>\n",
              "      <td>64</td>\n",
              "      <td>0</td>\n",
              "      <td>192</td>\n",
              "    </tr>\n",
              "    <tr>\n",
              "      <th>Child</th>\n",
              "      <td>192</td>\n",
              "      <td>128</td>\n",
              "      <td>64</td>\n",
              "    </tr>\n",
              "    <tr>\n",
              "      <th>Column_Pole</th>\n",
              "      <td>192</td>\n",
              "      <td>192</td>\n",
              "      <td>128</td>\n",
              "    </tr>\n",
              "    <tr>\n",
              "      <th>Fence</th>\n",
              "      <td>64</td>\n",
              "      <td>64</td>\n",
              "      <td>128</td>\n",
              "    </tr>\n",
              "    <tr>\n",
              "      <th>LaneMkgsDriv</th>\n",
              "      <td>128</td>\n",
              "      <td>0</td>\n",
              "      <td>192</td>\n",
              "    </tr>\n",
              "    <tr>\n",
              "      <th>LaneMkgsNonDriv</th>\n",
              "      <td>192</td>\n",
              "      <td>0</td>\n",
              "      <td>64</td>\n",
              "    </tr>\n",
              "    <tr>\n",
              "      <th>Misc_Text</th>\n",
              "      <td>128</td>\n",
              "      <td>128</td>\n",
              "      <td>64</td>\n",
              "    </tr>\n",
              "    <tr>\n",
              "      <th>MotorcycleScooter</th>\n",
              "      <td>192</td>\n",
              "      <td>0</td>\n",
              "      <td>192</td>\n",
              "    </tr>\n",
              "    <tr>\n",
              "      <th>OtherMoving</th>\n",
              "      <td>128</td>\n",
              "      <td>64</td>\n",
              "      <td>64</td>\n",
              "    </tr>\n",
              "    <tr>\n",
              "      <th>ParkingBlock</th>\n",
              "      <td>64</td>\n",
              "      <td>192</td>\n",
              "      <td>128</td>\n",
              "    </tr>\n",
              "    <tr>\n",
              "      <th>Pedestrian</th>\n",
              "      <td>64</td>\n",
              "      <td>64</td>\n",
              "      <td>0</td>\n",
              "    </tr>\n",
              "    <tr>\n",
              "      <th>Road</th>\n",
              "      <td>128</td>\n",
              "      <td>64</td>\n",
              "      <td>128</td>\n",
              "    </tr>\n",
              "    <tr>\n",
              "      <th>RoadShoulder</th>\n",
              "      <td>128</td>\n",
              "      <td>128</td>\n",
              "      <td>192</td>\n",
              "    </tr>\n",
              "    <tr>\n",
              "      <th>Sidewalk</th>\n",
              "      <td>0</td>\n",
              "      <td>0</td>\n",
              "      <td>192</td>\n",
              "    </tr>\n",
              "    <tr>\n",
              "      <th>SignSymbol</th>\n",
              "      <td>192</td>\n",
              "      <td>128</td>\n",
              "      <td>128</td>\n",
              "    </tr>\n",
              "    <tr>\n",
              "      <th>Sky</th>\n",
              "      <td>128</td>\n",
              "      <td>128</td>\n",
              "      <td>128</td>\n",
              "    </tr>\n",
              "    <tr>\n",
              "      <th>SUVPickupTruck</th>\n",
              "      <td>64</td>\n",
              "      <td>128</td>\n",
              "      <td>192</td>\n",
              "    </tr>\n",
              "    <tr>\n",
              "      <th>TrafficCone</th>\n",
              "      <td>0</td>\n",
              "      <td>0</td>\n",
              "      <td>64</td>\n",
              "    </tr>\n",
              "    <tr>\n",
              "      <th>TrafficLight</th>\n",
              "      <td>0</td>\n",
              "      <td>64</td>\n",
              "      <td>64</td>\n",
              "    </tr>\n",
              "    <tr>\n",
              "      <th>Train</th>\n",
              "      <td>192</td>\n",
              "      <td>64</td>\n",
              "      <td>128</td>\n",
              "    </tr>\n",
              "    <tr>\n",
              "      <th>Tree</th>\n",
              "      <td>128</td>\n",
              "      <td>128</td>\n",
              "      <td>0</td>\n",
              "    </tr>\n",
              "    <tr>\n",
              "      <th>Truck_Bus</th>\n",
              "      <td>192</td>\n",
              "      <td>128</td>\n",
              "      <td>192</td>\n",
              "    </tr>\n",
              "    <tr>\n",
              "      <th>Tunnel</th>\n",
              "      <td>64</td>\n",
              "      <td>0</td>\n",
              "      <td>64</td>\n",
              "    </tr>\n",
              "    <tr>\n",
              "      <th>VegetationMisc</th>\n",
              "      <td>192</td>\n",
              "      <td>192</td>\n",
              "      <td>0</td>\n",
              "    </tr>\n",
              "    <tr>\n",
              "      <th>Void</th>\n",
              "      <td>0</td>\n",
              "      <td>0</td>\n",
              "      <td>0</td>\n",
              "    </tr>\n",
              "    <tr>\n",
              "      <th>Wall</th>\n",
              "      <td>64</td>\n",
              "      <td>192</td>\n",
              "      <td>0</td>\n",
              "    </tr>\n",
              "  </tbody>\n",
              "</table>\n",
              "</div>"
            ],
            "text/plain": [
              "                     r    g    b\n",
              "name                            \n",
              "Animal              64  128   64\n",
              "Archway            192    0  128\n",
              "Bicyclist            0  128  192\n",
              "Bridge               0  128   64\n",
              "Building           128    0    0\n",
              "Car                 64    0  128\n",
              "CartLuggagePram     64    0  192\n",
              "Child              192  128   64\n",
              "Column_Pole        192  192  128\n",
              "Fence               64   64  128\n",
              "LaneMkgsDriv       128    0  192\n",
              "LaneMkgsNonDriv    192    0   64\n",
              "Misc_Text          128  128   64\n",
              "MotorcycleScooter  192    0  192\n",
              "OtherMoving        128   64   64\n",
              "ParkingBlock        64  192  128\n",
              "Pedestrian          64   64    0\n",
              "Road               128   64  128\n",
              "RoadShoulder       128  128  192\n",
              "Sidewalk             0    0  192\n",
              "SignSymbol         192  128  128\n",
              "Sky                128  128  128\n",
              "SUVPickupTruck      64  128  192\n",
              "TrafficCone          0    0   64\n",
              "TrafficLight         0   64   64\n",
              "Train              192   64  128\n",
              "Tree               128  128    0\n",
              "Truck_Bus          192  128  192\n",
              "Tunnel              64    0   64\n",
              "VegetationMisc     192  192    0\n",
              "Void                 0    0    0\n",
              "Wall                64  192    0"
            ]
          },
          "metadata": {
            "tags": []
          },
          "execution_count": 7
        }
      ]
    },
    {
      "cell_type": "code",
      "metadata": {
        "id": "41bj3Q4uDaat",
        "colab": {
          "base_uri": "https://localhost:8080/"
        },
        "outputId": "960bfbb8-b8c8-406e-8634-6f13d0dc646f"
      },
      "source": [
        "n_classes = len(classes)\n",
        "n_classes"
      ],
      "execution_count": null,
      "outputs": [
        {
          "output_type": "execute_result",
          "data": {
            "text/plain": [
              "32"
            ]
          },
          "metadata": {
            "tags": []
          },
          "execution_count": 13
        }
      ]
    },
    {
      "cell_type": "markdown",
      "metadata": {
        "id": "TzoJTBT4D44W"
      },
      "source": [
        "UNET 모델 정의\n",
        "---\n",
        "* Unet은 2015년에 출시한  Biomedical Image segmentation을 위한 convolutional network로 출시됨  \n",
        "* End-to-End 로 Segmentation하는 심플하고 효과적인 방법  \n",
        "* U-Net은 Fully Convolution Network(FCN)를 기반으로 하여 구축하였으며, 적은 데이터를 가지고도 더욱 정확한 Segmentaion을 내기 위해 FCN 구조를 수정\n"
      ]
    },
    {
      "cell_type": "code",
      "metadata": {
        "id": "ETS8ICJAD6xn"
      },
      "source": [
        "from keras.models import *\n",
        "from keras.layers import *\n",
        "from keras.optimizers import *\n",
        "from keras.callbacks import ModelCheckpoint, LearningRateScheduler\n",
        "from keras import backend as keras\n",
        "\n",
        "def unet(n_classes, pretrained_weights = None,input_size = (256,256,3)):\n",
        "    inputs = Input(input_size)\n",
        "    conv1 = Conv2D(64, 3, activation = 'relu', padding = 'same', kernel_initializer = 'he_normal')(inputs)\n",
        "    conv1 = Conv2D(64, 3, activation = 'relu', padding = 'same', kernel_initializer = 'he_normal')(conv1)\n",
        "    pool1 = MaxPooling2D(pool_size=(2, 2))(conv1)\n",
        "    conv2 = Conv2D(128, 3, activation = 'relu', padding = 'same', kernel_initializer = 'he_normal')(pool1)\n",
        "    conv2 = Conv2D(128, 3, activation = 'relu', padding = 'same', kernel_initializer = 'he_normal')(conv2)\n",
        "    pool2 = MaxPooling2D(pool_size=(2, 2))(conv2)\n",
        "    conv3 = Conv2D(256, 3, activation = 'relu', padding = 'same', kernel_initializer = 'he_normal')(pool2)\n",
        "    conv3 = Conv2D(256, 3, activation = 'relu', padding = 'same', kernel_initializer = 'he_normal')(conv3)\n",
        "    pool3 = MaxPooling2D(pool_size=(2, 2))(conv3)\n",
        "    conv4 = Conv2D(512, 3, activation = 'relu', padding = 'same', kernel_initializer = 'he_normal')(pool3)\n",
        "    conv4 = Conv2D(512, 3, activation = 'relu', padding = 'same', kernel_initializer = 'he_normal')(conv4)\n",
        "    drop4 = Dropout(0.5)(conv4)\n",
        "    pool4 = MaxPooling2D(pool_size=(2, 2))(drop4)\n",
        "\n",
        "    conv5 = Conv2D(1024, 3, activation = 'relu', padding = 'same', kernel_initializer = 'he_normal')(pool4)\n",
        "    conv5 = Conv2D(1024, 3, activation = 'relu', padding = 'same', kernel_initializer = 'he_normal')(conv5)\n",
        "    drop5 = Dropout(0.5)(conv5)\n",
        "\n",
        "    up6 = Conv2D(512, 2, activation = 'relu', padding = 'same', kernel_initializer = 'he_normal')(UpSampling2D(size = (2,2))(drop5))\n",
        "    merge6 = concatenate([drop4,up6], axis = 3)\n",
        "    conv6 = Conv2D(512, 3, activation = 'relu', padding = 'same', kernel_initializer = 'he_normal')(merge6)\n",
        "    conv6 = Conv2D(512, 3, activation = 'relu', padding = 'same', kernel_initializer = 'he_normal')(conv6)\n",
        "\n",
        "    up7 = Conv2D(256, 2, activation = 'relu', padding = 'same', kernel_initializer = 'he_normal')(UpSampling2D(size = (2,2))(conv6))\n",
        "    merge7 = concatenate([conv3,up7], axis = 3)\n",
        "    conv7 = Conv2D(256, 3, activation = 'relu', padding = 'same', kernel_initializer = 'he_normal')(merge7)\n",
        "    conv7 = Conv2D(256, 3, activation = 'relu', padding = 'same', kernel_initializer = 'he_normal')(conv7)\n",
        "\n",
        "    up8 = Conv2D(128, 2, activation = 'relu', padding = 'same', kernel_initializer = 'he_normal')(UpSampling2D(size = (2,2))(conv7))\n",
        "    merge8 = concatenate([conv2,up8], axis = 3)\n",
        "    conv8 = Conv2D(128, 3, activation = 'relu', padding = 'same', kernel_initializer = 'he_normal')(merge8)\n",
        "    conv8 = Conv2D(128, 3, activation = 'relu', padding = 'same', kernel_initializer = 'he_normal')(conv8)\n",
        "\n",
        "    up9 = Conv2D(64, 2, activation = 'relu', padding = 'same', kernel_initializer = 'he_normal')(UpSampling2D(size = (2,2))(conv8))\n",
        "    merge9 = concatenate([conv1,up9], axis = 3)\n",
        "    conv9 = Conv2D(64, 3, activation = 'relu', padding = 'same', kernel_initializer = 'he_normal')(merge9)\n",
        "    conv9 = Conv2D(64, 3, activation = 'relu', padding = 'same', kernel_initializer = 'he_normal')(conv9)\n",
        "    #conv9 = Conv2D(2, 3, activation = 'relu', padding = 'same', kernel_initializer = 'he_normal')(conv9)\n",
        "    #conv10 = Conv2D(n_classes, (1,1), activation = 'softmax')(conv9)\n",
        "    conv10 = Conv2D(n_classes, (1,1), padding='same')(conv9)  \n",
        "\n",
        "    output_layer = conv10\n",
        "    output_layer = Activation('softmax')(output_layer)\n",
        "\n",
        "    model = Model(inputs,output_layer)\n",
        "    \n",
        "    #케라스의 MeanIOU를 평가지표로 사용\n",
        "    model.compile(optimizer = Adam(learning_rate = 1e-4), loss = 'categorical_crossentropy', metrics = [tf.keras.metrics.MeanIoU(num_classes=32)])\n",
        "\n",
        "    if(pretrained_weights):\n",
        "        model.load_weights(pretrained_weights)\n",
        "\n",
        "    return model"
      ],
      "execution_count": null,
      "outputs": []
    },
    {
      "cell_type": "code",
      "metadata": {
        "id": "C4YtljOjD9e-",
        "colab": {
          "base_uri": "https://localhost:8080/"
        },
        "outputId": "a73d2ef8-a327-4f94-82f3-a234f3820d68"
      },
      "source": [
        "model = unet(n_classes)\n",
        "model.summary()"
      ],
      "execution_count": null,
      "outputs": [
        {
          "output_type": "stream",
          "text": [
            "Model: \"model\"\n",
            "__________________________________________________________________________________________________\n",
            "Layer (type)                    Output Shape         Param #     Connected to                     \n",
            "==================================================================================================\n",
            "input_1 (InputLayer)            [(None, 256, 256, 3) 0                                            \n",
            "__________________________________________________________________________________________________\n",
            "conv2d (Conv2D)                 (None, 256, 256, 64) 1792        input_1[0][0]                    \n",
            "__________________________________________________________________________________________________\n",
            "conv2d_1 (Conv2D)               (None, 256, 256, 64) 36928       conv2d[0][0]                     \n",
            "__________________________________________________________________________________________________\n",
            "max_pooling2d (MaxPooling2D)    (None, 128, 128, 64) 0           conv2d_1[0][0]                   \n",
            "__________________________________________________________________________________________________\n",
            "conv2d_2 (Conv2D)               (None, 128, 128, 128 73856       max_pooling2d[0][0]              \n",
            "__________________________________________________________________________________________________\n",
            "conv2d_3 (Conv2D)               (None, 128, 128, 128 147584      conv2d_2[0][0]                   \n",
            "__________________________________________________________________________________________________\n",
            "max_pooling2d_1 (MaxPooling2D)  (None, 64, 64, 128)  0           conv2d_3[0][0]                   \n",
            "__________________________________________________________________________________________________\n",
            "conv2d_4 (Conv2D)               (None, 64, 64, 256)  295168      max_pooling2d_1[0][0]            \n",
            "__________________________________________________________________________________________________\n",
            "conv2d_5 (Conv2D)               (None, 64, 64, 256)  590080      conv2d_4[0][0]                   \n",
            "__________________________________________________________________________________________________\n",
            "max_pooling2d_2 (MaxPooling2D)  (None, 32, 32, 256)  0           conv2d_5[0][0]                   \n",
            "__________________________________________________________________________________________________\n",
            "conv2d_6 (Conv2D)               (None, 32, 32, 512)  1180160     max_pooling2d_2[0][0]            \n",
            "__________________________________________________________________________________________________\n",
            "conv2d_7 (Conv2D)               (None, 32, 32, 512)  2359808     conv2d_6[0][0]                   \n",
            "__________________________________________________________________________________________________\n",
            "dropout (Dropout)               (None, 32, 32, 512)  0           conv2d_7[0][0]                   \n",
            "__________________________________________________________________________________________________\n",
            "max_pooling2d_3 (MaxPooling2D)  (None, 16, 16, 512)  0           dropout[0][0]                    \n",
            "__________________________________________________________________________________________________\n",
            "conv2d_8 (Conv2D)               (None, 16, 16, 1024) 4719616     max_pooling2d_3[0][0]            \n",
            "__________________________________________________________________________________________________\n",
            "conv2d_9 (Conv2D)               (None, 16, 16, 1024) 9438208     conv2d_8[0][0]                   \n",
            "__________________________________________________________________________________________________\n",
            "dropout_1 (Dropout)             (None, 16, 16, 1024) 0           conv2d_9[0][0]                   \n",
            "__________________________________________________________________________________________________\n",
            "up_sampling2d (UpSampling2D)    (None, 32, 32, 1024) 0           dropout_1[0][0]                  \n",
            "__________________________________________________________________________________________________\n",
            "conv2d_10 (Conv2D)              (None, 32, 32, 512)  2097664     up_sampling2d[0][0]              \n",
            "__________________________________________________________________________________________________\n",
            "concatenate (Concatenate)       (None, 32, 32, 1024) 0           dropout[0][0]                    \n",
            "                                                                 conv2d_10[0][0]                  \n",
            "__________________________________________________________________________________________________\n",
            "conv2d_11 (Conv2D)              (None, 32, 32, 512)  4719104     concatenate[0][0]                \n",
            "__________________________________________________________________________________________________\n",
            "conv2d_12 (Conv2D)              (None, 32, 32, 512)  2359808     conv2d_11[0][0]                  \n",
            "__________________________________________________________________________________________________\n",
            "up_sampling2d_1 (UpSampling2D)  (None, 64, 64, 512)  0           conv2d_12[0][0]                  \n",
            "__________________________________________________________________________________________________\n",
            "conv2d_13 (Conv2D)              (None, 64, 64, 256)  524544      up_sampling2d_1[0][0]            \n",
            "__________________________________________________________________________________________________\n",
            "concatenate_1 (Concatenate)     (None, 64, 64, 512)  0           conv2d_5[0][0]                   \n",
            "                                                                 conv2d_13[0][0]                  \n",
            "__________________________________________________________________________________________________\n",
            "conv2d_14 (Conv2D)              (None, 64, 64, 256)  1179904     concatenate_1[0][0]              \n",
            "__________________________________________________________________________________________________\n",
            "conv2d_15 (Conv2D)              (None, 64, 64, 256)  590080      conv2d_14[0][0]                  \n",
            "__________________________________________________________________________________________________\n",
            "up_sampling2d_2 (UpSampling2D)  (None, 128, 128, 256 0           conv2d_15[0][0]                  \n",
            "__________________________________________________________________________________________________\n",
            "conv2d_16 (Conv2D)              (None, 128, 128, 128 131200      up_sampling2d_2[0][0]            \n",
            "__________________________________________________________________________________________________\n",
            "concatenate_2 (Concatenate)     (None, 128, 128, 256 0           conv2d_3[0][0]                   \n",
            "                                                                 conv2d_16[0][0]                  \n",
            "__________________________________________________________________________________________________\n",
            "conv2d_17 (Conv2D)              (None, 128, 128, 128 295040      concatenate_2[0][0]              \n",
            "__________________________________________________________________________________________________\n",
            "conv2d_18 (Conv2D)              (None, 128, 128, 128 147584      conv2d_17[0][0]                  \n",
            "__________________________________________________________________________________________________\n",
            "up_sampling2d_3 (UpSampling2D)  (None, 256, 256, 128 0           conv2d_18[0][0]                  \n",
            "__________________________________________________________________________________________________\n",
            "conv2d_19 (Conv2D)              (None, 256, 256, 64) 32832       up_sampling2d_3[0][0]            \n",
            "__________________________________________________________________________________________________\n",
            "concatenate_3 (Concatenate)     (None, 256, 256, 128 0           conv2d_1[0][0]                   \n",
            "                                                                 conv2d_19[0][0]                  \n",
            "__________________________________________________________________________________________________\n",
            "conv2d_20 (Conv2D)              (None, 256, 256, 64) 73792       concatenate_3[0][0]              \n",
            "__________________________________________________________________________________________________\n",
            "conv2d_21 (Conv2D)              (None, 256, 256, 64) 36928       conv2d_20[0][0]                  \n",
            "__________________________________________________________________________________________________\n",
            "conv2d_22 (Conv2D)              (None, 256, 256, 32) 2080        conv2d_21[0][0]                  \n",
            "__________________________________________________________________________________________________\n",
            "activation (Activation)         (None, 256, 256, 32) 0           conv2d_22[0][0]                  \n",
            "==================================================================================================\n",
            "Total params: 31,033,760\n",
            "Trainable params: 31,033,760\n",
            "Non-trainable params: 0\n",
            "__________________________________________________________________________________________________\n"
          ],
          "name": "stdout"
        },
        {
          "output_type": "stream",
          "text": [
            "/usr/local/lib/python3.7/dist-packages/tensorflow/python/keras/optimizer_v2/optimizer_v2.py:375: UserWarning: The `lr` argument is deprecated, use `learning_rate` instead.\n",
            "  \"The `lr` argument is deprecated, use `learning_rate` instead.\")\n"
          ],
          "name": "stderr"
        }
      ]
    },
    {
      "cell_type": "markdown",
      "metadata": {
        "id": "KJYO5oh3GJ19"
      },
      "source": [
        "이미지를 숫자형으로 변경\n",
        "---"
      ]
    },
    {
      "cell_type": "code",
      "metadata": {
        "colab": {
          "base_uri": "https://localhost:8080/"
        },
        "id": "hY1sk-3iVqfQ",
        "outputId": "912e25c4-23cf-4f3a-d5d2-d9a39394dc5c"
      },
      "source": [
        "cls2rgb = {cl:list(classes.loc[cl, :]) for cl in classes.index}\n",
        "cls2rgb"
      ],
      "execution_count": null,
      "outputs": [
        {
          "output_type": "execute_result",
          "data": {
            "text/plain": [
              "{'Animal': [64, 128, 64],\n",
              " 'Archway': [192, 0, 128],\n",
              " 'Bicyclist': [0, 128, 192],\n",
              " 'Bridge': [0, 128, 64],\n",
              " 'Building': [128, 0, 0],\n",
              " 'Car': [64, 0, 128],\n",
              " 'CartLuggagePram': [64, 0, 192],\n",
              " 'Child': [192, 128, 64],\n",
              " 'Column_Pole': [192, 192, 128],\n",
              " 'Fence': [64, 64, 128],\n",
              " 'LaneMkgsDriv': [128, 0, 192],\n",
              " 'LaneMkgsNonDriv': [192, 0, 64],\n",
              " 'Misc_Text': [128, 128, 64],\n",
              " 'MotorcycleScooter': [192, 0, 192],\n",
              " 'OtherMoving': [128, 64, 64],\n",
              " 'ParkingBlock': [64, 192, 128],\n",
              " 'Pedestrian': [64, 64, 0],\n",
              " 'Road': [128, 64, 128],\n",
              " 'RoadShoulder': [128, 128, 192],\n",
              " 'SUVPickupTruck': [64, 128, 192],\n",
              " 'Sidewalk': [0, 0, 192],\n",
              " 'SignSymbol': [192, 128, 128],\n",
              " 'Sky': [128, 128, 128],\n",
              " 'TrafficCone': [0, 0, 64],\n",
              " 'TrafficLight': [0, 64, 64],\n",
              " 'Train': [192, 64, 128],\n",
              " 'Tree': [128, 128, 0],\n",
              " 'Truck_Bus': [192, 128, 192],\n",
              " 'Tunnel': [64, 0, 64],\n",
              " 'VegetationMisc': [192, 192, 0],\n",
              " 'Void': [0, 0, 0],\n",
              " 'Wall': [64, 192, 0]}"
            ]
          },
          "metadata": {
            "tags": []
          },
          "execution_count": 14
        }
      ]
    },
    {
      "cell_type": "markdown",
      "metadata": {
        "id": "tEqKRduEVrzY"
      },
      "source": [
        "**adjust_mask(mask, flat)**\n",
        "\n",
        "이미지를 숫자배열로 변환하는 역할\n"
      ]
    },
    {
      "cell_type": "code",
      "metadata": {
        "id": "6_Nj_aoHDpnF"
      },
      "source": [
        "import numpy as np\n",
        "\n",
        "def adjust_mask(mask, flat=False): \n",
        "  \n",
        "    semantic_map = []\n",
        "    for colour in list(cls2rgb.values()):        \n",
        "        equality = np.equal(mask, colour) #256x256x3차원을 True/False로 채움\n",
        "        class_map = np.all(equality, axis = -1) #256x256가 전부 True이면(지정된 픽셀의 색상을 찾으면) True 반환\n",
        "        semantic_map.append(class_map) #True/False로 256x256 배열의 리스트 생성\n",
        "    semantic_map = np.stack(semantic_map, axis=-1)# 256x256 배열 x32개 클래스 -> 256x256x32차원으로 만듬\n",
        "    \n",
        "    if flat:\n",
        "        semantic_map = np.reshape(semantic_map, (-1,256*256)) #평면이 아니라면 (-1,256*256)의 2차원으로 변환\n",
        "\n",
        "    return np.float32(semantic_map)#T/F 배열을 숫자배열로 변환"
      ],
      "execution_count": null,
      "outputs": []
    },
    {
      "cell_type": "markdown",
      "metadata": {
        "id": "dAgV-YEwWART"
      },
      "source": [
        "**generator_fn()**  \n",
        "generator 내의 모든 값에 adjust_mask함수 적용"
      ]
    },
    {
      "cell_type": "code",
      "metadata": {
        "id": "YUUuJV6oS4Su"
      },
      "source": [
        "def train_generator_fn():\n",
        "    for (img,mask) in train_generator:\n",
        "        new_mask = adjust_mask(mask)\n",
        "        yield (img,new_mask)\n",
        "\n",
        "def val_generator_fn():\n",
        "    for (img,mask) in val_generator:\n",
        "        new_mask = adjust_mask(mask)\n",
        "        yield (img,new_mask)\n",
        "\n",
        "def test_generator_fn():  \n",
        "    for (img,mask) in test_generator:\n",
        "        new_mask=adjust_mask(mask)\n",
        "        yield (img,new_mask)"
      ],
      "execution_count": null,
      "outputs": []
    },
    {
      "cell_type": "markdown",
      "metadata": {
        "id": "QCPp6sy9Gtsl"
      },
      "source": [
        "모델 실행 및 시각화\n",
        "---"
      ]
    },
    {
      "cell_type": "markdown",
      "metadata": {
        "id": "ziQAfuJUIcXU"
      },
      "source": [
        "학습, 검증, 평가 과정  진행"
      ]
    },
    {
      "cell_type": "code",
      "metadata": {
        "id": "Zx_YWOX2G7R1",
        "colab": {
          "base_uri": "https://localhost:8080/"
        },
        "outputId": "520fff73-8ca7-43b5-c9b9-f118ce3a0ae3"
      },
      "source": [
        "model_checkpoint = ModelCheckpoint('unet_camvid.hdf5', monitor='val_loss',verbose=1, save_best_only=True)\n",
        "\n",
        "model = unet(n_classes=32)\n",
        "model.fit_generator(generator=train_generator_fn(),\n",
        "                    validation_data=val_generator_fn(),\n",
        "                    validation_steps=100,               \n",
        "                    steps_per_epoch=1000,\n",
        "                    epochs=10,\n",
        "                    callbacks=[model_checkpoint])"
      ],
      "execution_count": null,
      "outputs": [
        {
          "output_type": "stream",
          "text": [
            "/usr/local/lib/python3.7/dist-packages/tensorflow/python/keras/optimizer_v2/optimizer_v2.py:375: UserWarning: The `lr` argument is deprecated, use `learning_rate` instead.\n",
            "  \"The `lr` argument is deprecated, use `learning_rate` instead.\")\n",
            "/usr/local/lib/python3.7/dist-packages/keras/engine/training.py:1915: UserWarning: `Model.fit_generator` is deprecated and will be removed in a future version. Please use `Model.fit`, which supports generators.\n",
            "  warnings.warn('`Model.fit_generator` is deprecated and '\n"
          ],
          "name": "stderr"
        },
        {
          "output_type": "stream",
          "text": [
            "Epoch 1/10\n",
            " 330/1000 [========>.....................] - ETA: 4:48:46 - loss: 1.8387 - mean_io_u_1: 0.4857"
          ],
          "name": "stdout"
        }
      ]
    },
    {
      "cell_type": "code",
      "metadata": {
        "id": "G_ALZO3GYJcM"
      },
      "source": [
        "scores=model.evaluate_generator(test_generator_fn(),steps=5)\n",
        "scores[1]"
      ],
      "execution_count": null,
      "outputs": []
    },
    {
      "cell_type": "markdown",
      "metadata": {
        "id": "I7nTzPhsHYkV"
      },
      "source": [
        "시각화"
      ]
    },
    {
      "cell_type": "code",
      "metadata": {
        "id": "Jn2doq3-Qbco"
      },
      "source": [
        "# img (256,256,3)\n",
        "# gt_mask: gt_mode=sparse--> (256,256) or ohe --> (256,256,32)\n",
        "def test_visualize_seg(img, gt_mask, shape='normal'):\n",
        "    plt.figure(1)\n",
        "\n",
        "      # Img\n",
        "    plt.subplot(311)\n",
        "    plt.imshow(img)\n",
        "\n",
        "      # Predict\n",
        "    pred_mask = model.predict(np.expand_dims(img, 0))\n",
        "    pred_mask = np.argmax(pred_mask, axis=-1)\n",
        "    pred_mask = pred_mask[0]\n",
        "    if shape=='flat':\n",
        "        pred_mask = np.reshape(pred_mask, (256,256)) # Reshape only if you use the flat model. O.w. you dont need\n",
        "\n",
        "    rgb_mask = np.apply_along_axis(map_class_to_rgb, -1, np.expand_dims(pred_mask, -1))\n",
        "\n",
        "    # Prediction\n",
        "    plt.subplot(312)\n",
        "    plt.imshow(rgb_mask)\n",
        "\n",
        "    plt.subplot(313)\n",
        "    plt.imshow((gt_mask).astype(np.float64))"
      ],
      "execution_count": null,
      "outputs": []
    },
    {
      "cell_type": "code",
      "metadata": {
        "id": "xzy_48dqHans"
      },
      "source": [
        "img = next(test_image_generator)[0] #\n",
        "gt_img = next(test_mask_generator)[0] \n",
        "test_visualize_seg(img, gt_img)"
      ],
      "execution_count": null,
      "outputs": []
    },
    {
      "cell_type": "markdown",
      "metadata": {
        "id": "9G8DoE4lmM_S"
      },
      "source": [
        "영상 만들기"
      ]
    },
    {
      "cell_type": "code",
      "metadata": {
        "id": "SOwUj_ECw--i"
      },
      "source": [
        "import re\n",
        "\n",
        "path = '/content/drive/MyDrive/dataset/Mask_Test'\n",
        "paths = [os.path.join(path , i ) for i in os.listdir(path) if re.search(\".png$\", i )]\n",
        "\n",
        "## 정렬 작업\n",
        "store1 = []\n",
        "store2 = []\n",
        "for i in paths :\n",
        "    if len(i) == 19 :\n",
        "        store2.append(i)\n",
        "    else :\n",
        "        store1.append(i)\n",
        "\n",
        "paths = list(np.sort(store1)) + list(np.sort(store2))"
      ],
      "execution_count": null,
      "outputs": []
    },
    {
      "cell_type": "code",
      "metadata": {
        "id": "at1qs6DIjkIa"
      },
      "source": [
        "import cv2\n",
        "\n",
        "#pathIn= '/content/drive/MyDrive/dataset/Mask_Test'\n",
        "pathOut = '/content/drive/MyDrive/dataset/Mask_Test2.mp4'\n",
        "fps = 10 #1초당 보여주는 이미지 개수    \n",
        "\n",
        "frame_array = []\n",
        "for idx , path in enumerate(paths) : #idx는 반복문 번호\n",
        "    #if (idx % 2 == 0) | (idx % 5 == 0) :\n",
        "        #continue\n",
        "    img = cv2.imread(path) #해당경로에 있는지 이미지 읽기\n",
        "    height, width, layers = img.shape\n",
        "    size = (width,height)\n",
        "    frame_array.append(img)\n",
        "out = cv2.VideoWriter(pathOut,cv2.VideoWriter_fourcc(*'DIVX'), fps, size)\n",
        "#cv2.VideoWriter_fourcc(*'DIVX')는 동영상으 코덱, 압축방식, 색상, 픽셀포멧 정의\n",
        "\n",
        "for i in range(len(frame_array)):\n",
        "    out.write(frame_array[i]) #이미지 배열에 작성\n",
        "out.release()"
      ],
      "execution_count": null,
      "outputs": []
    }
  ]
}